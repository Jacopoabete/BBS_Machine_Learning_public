{
 "cells": [
  {
   "cell_type": "markdown",
   "metadata": {
    "slideshow": {
     "slide_type": "slide"
    }
   },
   "source": [
    "[From official `scikit-learn` documentation](http://scikit-learn.org/stable/auto_examples/model_selection/plot_grid_search_digits.html)<br>\n",
    "Totally reviewed and adapted by Claudio Sartori\n",
    "\n",
    "# Classification with Decision Tree - hyperparameter tuning (__model selection__) with Grid Search and Cross Validation\n",
    "\n",
    "We use here the Decision Tree and the standard `CrossValidation`, then find the best hyperparameter setting through _grid search_\n",
    "\n",
    "\n",
    "### Workflow\n",
    "1. download the data\n",
    "1. data exploration\n",
    "1. drop the useless data (if any)\n",
    "1. separe the predicting attributes X from the class attribute y\n",
    "1. split X and y into training and test\n",
    "    - set a variable `target` with the column name of the target\n",
    "1. single run with default parameters\n",
    "    - initialise a estimator with the DecisionTreeClassifier\n",
    "    - fit the estimator with the training part of X\n",
    "    - show the tree structure\n",
    "        - in particular, observe the maximum depth of the tree, this will be used in choosing the range for the `max_depth` hyperparameter\n",
    "    - predict the y values with the fitted estimator and the train data\n",
    "        - compare the predicted values with the true ones and compute the accuracy on the training set \n",
    "    - predict the y values with the fitted estimator and the test data\n",
    "        - compare the predicted values with the true ones and compute the accuracy on the test set\n",
    "        - this will be our baseline\n",
    "\n",
    "## Model selection\n",
    "\n",
    "- the *train* part will be used for training and _cross-validation_ (i.e. for *development*)\n",
    "- the *test* part will be used for test (i.e. for *evaluation*)\n",
    "- the fraction of train data will be __train_size__ (a value of your choice between 0.67 and 0.8)\n",
    "- the function `GridSearchCV` iterates a cross validation experiment to __train__ and __validate__ a model with different combinations of paramater values\n",
    "- for each parameter we set a list of values to test, the `GridSearchCV` function will generate all the combinations\n",
    "- we will make several experiments with the optimisation of different *score function* \n",
    "    - e.g. `accuracy_score`, `precision_score`, `recall_score`, `f1_score`, see this [page](http://scikit-learn.org/stable/modules/classes.html#module-sklearn.metrics) for reference\n",
    "    - we add a *customer cost function* to take into account customer costs for the different types of error\n",
    "        - it will be defined by a matrix representing the *costs of errors*, with this we will build a *customer scorer*\n",
    "    - the output is a dictionary containing \n",
    "        - the set of parameters which maximize the score \n",
    "        - the test scores\n"
   ]
  },
  {
   "cell_type": "code",
   "execution_count": 1,
   "metadata": {
    "slideshow": {
     "slide_type": "slide"
    }
   },
   "outputs": [],
   "source": [
    "\"\"\"\n",
    "http://scikit-learn.org/stable/auto_examples/model_selection/plot_grid_search_digits.html\n",
    "@author: scikit-learn.org and Claudio Sartori\n",
    "\"\"\"\n",
    "import warnings\n",
    "warnings.filterwarnings('ignore') # uncomment this line to suppress warnings"
   ]
  },
  {
   "cell_type": "markdown",
   "metadata": {},
   "source": [
    "### Prepare the environment\n",
    "\n",
    "- Import all the relavant libraries\n",
    "- set the `random_state`\n",
    "- set the fraction to use for training `train_size`\n",
    "- set the number of cross-validation splits `n_splits`\n",
    "- set the url for the data `data_url`\n",
    "- set the name of the `target`"
   ]
  },
  {
   "cell_type": "code",
   "execution_count": 2,
   "metadata": {},
   "outputs": [],
   "source": [
    "# hint\n",
    "import pandas as pd\n",
    "import numpy as np\n",
    "import matplotlib.pyplot as plt\n",
    "import seaborn as sns\n",
    "from sklearn import tree\n",
    "from sklearn.metrics import accuracy_score, classification_report, confusion_matrix\n",
    "from sklearn.model_selection import cross_val_score, train_test_split, GridSearchCV, StratifiedKFold\n",
    "from sklearn.metrics import classification_report, ConfusionMatrixDisplay\n",
    "from sklearn.tree import DecisionTreeClassifier, plot_tree\n",
    "\n",
    "plt.rcParams['figure.figsize'] = [10, 10]\n",
    "plt.rcParams.update({'font.size'   : 12})\n",
    "random_state = 17\n",
    "train_size = 0.67\n",
    "n_splits = 3\n",
    "np.random.seed(random_state)\n",
    "# the random state is reset here in numpy, all the scikit-learn procedure use the numpy random state\n",
    "# obviously the experiment can be repeated exactly only with a complete run of the program\n",
    "\n",
    "# data_url = \"../data/winequality-red.csv\"\n",
    "data_url = \"../data/default-of-credit-card-clients.xlsx\"\n",
    "# sep = ';'\n",
    "# sep = ','\n",
    "target = 'DPNM'"
   ]
  },
  {
   "cell_type": "markdown",
   "metadata": {},
   "source": [
    "Read the data into a dataframe and show the size"
   ]
  },
  {
   "cell_type": "code",
   "execution_count": 15,
   "metadata": {},
   "outputs": [
    {
     "name": "stdout",
     "output_type": "stream",
     "text": [
      "Shape of the input data (30000, 25)\n"
     ]
    }
   ],
   "source": [
    "df = pd.read_excel(data_url\n",
    "                , skiprows=1\n",
    "                )\n",
    "print(\"Shape of the input data {}\".format(df.shape))"
   ]
  },
  {
   "cell_type": "markdown",
   "metadata": {},
   "source": [
    "Show the head of the dataframe and try to understand if everything is fine.\n",
    "\n",
    "If necessary, adjust the read of previous cell adding parameters. (Hint: consider using `skiprows`)"
   ]
  },
  {
   "cell_type": "code",
   "execution_count": 8,
   "metadata": {},
   "outputs": [
    {
     "data": {
      "text/html": [
       "<div>\n",
       "<style scoped>\n",
       "    .dataframe tbody tr th:only-of-type {\n",
       "        vertical-align: middle;\n",
       "    }\n",
       "\n",
       "    .dataframe tbody tr th {\n",
       "        vertical-align: top;\n",
       "    }\n",
       "\n",
       "    .dataframe thead th {\n",
       "        text-align: right;\n",
       "    }\n",
       "</style>\n",
       "<table border=\"1\" class=\"dataframe\">\n",
       "  <thead>\n",
       "    <tr style=\"text-align: right;\">\n",
       "      <th></th>\n",
       "      <th>Unnamed: 0</th>\n",
       "      <th>X1</th>\n",
       "      <th>X2</th>\n",
       "      <th>X3</th>\n",
       "      <th>X4</th>\n",
       "      <th>X5</th>\n",
       "      <th>X6</th>\n",
       "      <th>X7</th>\n",
       "      <th>X8</th>\n",
       "      <th>X9</th>\n",
       "      <th>...</th>\n",
       "      <th>X15</th>\n",
       "      <th>X16</th>\n",
       "      <th>X17</th>\n",
       "      <th>X18</th>\n",
       "      <th>X19</th>\n",
       "      <th>X20</th>\n",
       "      <th>X21</th>\n",
       "      <th>X22</th>\n",
       "      <th>X23</th>\n",
       "      <th>Y</th>\n",
       "    </tr>\n",
       "  </thead>\n",
       "  <tbody>\n",
       "    <tr>\n",
       "      <th>0</th>\n",
       "      <td>ID</td>\n",
       "      <td>LIMIT_BAL</td>\n",
       "      <td>SEX</td>\n",
       "      <td>EDUCATION</td>\n",
       "      <td>MARRIAGE</td>\n",
       "      <td>AGE</td>\n",
       "      <td>PAY_0</td>\n",
       "      <td>PAY_2</td>\n",
       "      <td>PAY_3</td>\n",
       "      <td>PAY_4</td>\n",
       "      <td>...</td>\n",
       "      <td>BILL_AMT4</td>\n",
       "      <td>BILL_AMT5</td>\n",
       "      <td>BILL_AMT6</td>\n",
       "      <td>PAY_AMT1</td>\n",
       "      <td>PAY_AMT2</td>\n",
       "      <td>PAY_AMT3</td>\n",
       "      <td>PAY_AMT4</td>\n",
       "      <td>PAY_AMT5</td>\n",
       "      <td>PAY_AMT6</td>\n",
       "      <td>DPNM</td>\n",
       "    </tr>\n",
       "    <tr>\n",
       "      <th>1</th>\n",
       "      <td>1</td>\n",
       "      <td>20000</td>\n",
       "      <td>2</td>\n",
       "      <td>2</td>\n",
       "      <td>1</td>\n",
       "      <td>24</td>\n",
       "      <td>2</td>\n",
       "      <td>2</td>\n",
       "      <td>-1</td>\n",
       "      <td>-1</td>\n",
       "      <td>...</td>\n",
       "      <td>0</td>\n",
       "      <td>0</td>\n",
       "      <td>0</td>\n",
       "      <td>0</td>\n",
       "      <td>689</td>\n",
       "      <td>0</td>\n",
       "      <td>0</td>\n",
       "      <td>0</td>\n",
       "      <td>0</td>\n",
       "      <td>1</td>\n",
       "    </tr>\n",
       "    <tr>\n",
       "      <th>2</th>\n",
       "      <td>2</td>\n",
       "      <td>120000</td>\n",
       "      <td>2</td>\n",
       "      <td>2</td>\n",
       "      <td>2</td>\n",
       "      <td>26</td>\n",
       "      <td>-1</td>\n",
       "      <td>2</td>\n",
       "      <td>0</td>\n",
       "      <td>0</td>\n",
       "      <td>...</td>\n",
       "      <td>3272</td>\n",
       "      <td>3455</td>\n",
       "      <td>3261</td>\n",
       "      <td>0</td>\n",
       "      <td>1000</td>\n",
       "      <td>1000</td>\n",
       "      <td>1000</td>\n",
       "      <td>0</td>\n",
       "      <td>2000</td>\n",
       "      <td>1</td>\n",
       "    </tr>\n",
       "    <tr>\n",
       "      <th>3</th>\n",
       "      <td>3</td>\n",
       "      <td>90000</td>\n",
       "      <td>2</td>\n",
       "      <td>2</td>\n",
       "      <td>2</td>\n",
       "      <td>34</td>\n",
       "      <td>0</td>\n",
       "      <td>0</td>\n",
       "      <td>0</td>\n",
       "      <td>0</td>\n",
       "      <td>...</td>\n",
       "      <td>14331</td>\n",
       "      <td>14948</td>\n",
       "      <td>15549</td>\n",
       "      <td>1518</td>\n",
       "      <td>1500</td>\n",
       "      <td>1000</td>\n",
       "      <td>1000</td>\n",
       "      <td>1000</td>\n",
       "      <td>5000</td>\n",
       "      <td>0</td>\n",
       "    </tr>\n",
       "    <tr>\n",
       "      <th>4</th>\n",
       "      <td>4</td>\n",
       "      <td>50000</td>\n",
       "      <td>2</td>\n",
       "      <td>2</td>\n",
       "      <td>1</td>\n",
       "      <td>37</td>\n",
       "      <td>0</td>\n",
       "      <td>0</td>\n",
       "      <td>0</td>\n",
       "      <td>0</td>\n",
       "      <td>...</td>\n",
       "      <td>28314</td>\n",
       "      <td>28959</td>\n",
       "      <td>29547</td>\n",
       "      <td>2000</td>\n",
       "      <td>2019</td>\n",
       "      <td>1200</td>\n",
       "      <td>1100</td>\n",
       "      <td>1069</td>\n",
       "      <td>1000</td>\n",
       "      <td>0</td>\n",
       "    </tr>\n",
       "  </tbody>\n",
       "</table>\n",
       "<p>5 rows × 25 columns</p>\n",
       "</div>"
      ],
      "text/plain": [
       "  Unnamed: 0         X1   X2         X3        X4   X5     X6     X7     X8  \\\n",
       "0         ID  LIMIT_BAL  SEX  EDUCATION  MARRIAGE  AGE  PAY_0  PAY_2  PAY_3   \n",
       "1          1      20000    2          2         1   24      2      2     -1   \n",
       "2          2     120000    2          2         2   26     -1      2      0   \n",
       "3          3      90000    2          2         2   34      0      0      0   \n",
       "4          4      50000    2          2         1   37      0      0      0   \n",
       "\n",
       "      X9  ...        X15        X16        X17       X18       X19       X20  \\\n",
       "0  PAY_4  ...  BILL_AMT4  BILL_AMT5  BILL_AMT6  PAY_AMT1  PAY_AMT2  PAY_AMT3   \n",
       "1     -1  ...          0          0          0         0       689         0   \n",
       "2      0  ...       3272       3455       3261         0      1000      1000   \n",
       "3      0  ...      14331      14948      15549      1518      1500      1000   \n",
       "4      0  ...      28314      28959      29547      2000      2019      1200   \n",
       "\n",
       "        X21       X22       X23     Y  \n",
       "0  PAY_AMT4  PAY_AMT5  PAY_AMT6  DPNM  \n",
       "1         0         0         0     1  \n",
       "2      1000         0      2000     1  \n",
       "3      1000      1000      5000     0  \n",
       "4      1100      1069      1000     0  \n",
       "\n",
       "[5 rows x 25 columns]"
      ]
     },
     "execution_count": 8,
     "metadata": {},
     "output_type": "execute_result"
    }
   ],
   "source": [
    "df.head()"
   ]
  },
  {
   "cell_type": "markdown",
   "metadata": {},
   "source": [
    "Examine the short description provided by `.describe(include='all)`"
   ]
  },
  {
   "cell_type": "markdown",
   "metadata": {},
   "source": [
    "`counts` counts the valid vaules, if it is equal to the number of rows it means that there are no missing values in the colmumn\n",
    "\n",
    "The other rows are simple descriptive statistics"
   ]
  },
  {
   "cell_type": "code",
   "execution_count": 16,
   "metadata": {},
   "outputs": [
    {
     "data": {
      "text/html": [
       "<div>\n",
       "<style scoped>\n",
       "    .dataframe tbody tr th:only-of-type {\n",
       "        vertical-align: middle;\n",
       "    }\n",
       "\n",
       "    .dataframe tbody tr th {\n",
       "        vertical-align: top;\n",
       "    }\n",
       "\n",
       "    .dataframe thead th {\n",
       "        text-align: right;\n",
       "    }\n",
       "</style>\n",
       "<table border=\"1\" class=\"dataframe\">\n",
       "  <thead>\n",
       "    <tr style=\"text-align: right;\">\n",
       "      <th></th>\n",
       "      <th>ID</th>\n",
       "      <th>LIMIT_BAL</th>\n",
       "      <th>SEX</th>\n",
       "      <th>EDUCATION</th>\n",
       "      <th>MARRIAGE</th>\n",
       "      <th>AGE</th>\n",
       "      <th>PAY_0</th>\n",
       "      <th>PAY_2</th>\n",
       "      <th>PAY_3</th>\n",
       "      <th>PAY_4</th>\n",
       "      <th>...</th>\n",
       "      <th>BILL_AMT4</th>\n",
       "      <th>BILL_AMT5</th>\n",
       "      <th>BILL_AMT6</th>\n",
       "      <th>PAY_AMT1</th>\n",
       "      <th>PAY_AMT2</th>\n",
       "      <th>PAY_AMT3</th>\n",
       "      <th>PAY_AMT4</th>\n",
       "      <th>PAY_AMT5</th>\n",
       "      <th>PAY_AMT6</th>\n",
       "      <th>DPNM</th>\n",
       "    </tr>\n",
       "  </thead>\n",
       "  <tbody>\n",
       "    <tr>\n",
       "      <th>count</th>\n",
       "      <td>30000.000000</td>\n",
       "      <td>30000.000000</td>\n",
       "      <td>30000.000000</td>\n",
       "      <td>30000.000000</td>\n",
       "      <td>30000.000000</td>\n",
       "      <td>30000.000000</td>\n",
       "      <td>30000.000000</td>\n",
       "      <td>30000.000000</td>\n",
       "      <td>30000.000000</td>\n",
       "      <td>30000.000000</td>\n",
       "      <td>...</td>\n",
       "      <td>30000.000000</td>\n",
       "      <td>30000.000000</td>\n",
       "      <td>30000.000000</td>\n",
       "      <td>30000.000000</td>\n",
       "      <td>3.000000e+04</td>\n",
       "      <td>30000.00000</td>\n",
       "      <td>30000.000000</td>\n",
       "      <td>30000.000000</td>\n",
       "      <td>30000.000000</td>\n",
       "      <td>30000.000000</td>\n",
       "    </tr>\n",
       "    <tr>\n",
       "      <th>mean</th>\n",
       "      <td>15000.500000</td>\n",
       "      <td>167484.322667</td>\n",
       "      <td>1.603733</td>\n",
       "      <td>1.853133</td>\n",
       "      <td>1.551867</td>\n",
       "      <td>35.485500</td>\n",
       "      <td>-0.016700</td>\n",
       "      <td>-0.133767</td>\n",
       "      <td>-0.166200</td>\n",
       "      <td>-0.220667</td>\n",
       "      <td>...</td>\n",
       "      <td>43262.948967</td>\n",
       "      <td>40311.400967</td>\n",
       "      <td>38871.760400</td>\n",
       "      <td>5663.580500</td>\n",
       "      <td>5.921163e+03</td>\n",
       "      <td>5225.68150</td>\n",
       "      <td>4826.076867</td>\n",
       "      <td>4799.387633</td>\n",
       "      <td>5215.502567</td>\n",
       "      <td>0.221200</td>\n",
       "    </tr>\n",
       "    <tr>\n",
       "      <th>std</th>\n",
       "      <td>8660.398374</td>\n",
       "      <td>129747.661567</td>\n",
       "      <td>0.489129</td>\n",
       "      <td>0.790349</td>\n",
       "      <td>0.521970</td>\n",
       "      <td>9.217904</td>\n",
       "      <td>1.123802</td>\n",
       "      <td>1.197186</td>\n",
       "      <td>1.196868</td>\n",
       "      <td>1.169139</td>\n",
       "      <td>...</td>\n",
       "      <td>64332.856134</td>\n",
       "      <td>60797.155770</td>\n",
       "      <td>59554.107537</td>\n",
       "      <td>16563.280354</td>\n",
       "      <td>2.304087e+04</td>\n",
       "      <td>17606.96147</td>\n",
       "      <td>15666.159744</td>\n",
       "      <td>15278.305679</td>\n",
       "      <td>17777.465775</td>\n",
       "      <td>0.415062</td>\n",
       "    </tr>\n",
       "    <tr>\n",
       "      <th>min</th>\n",
       "      <td>1.000000</td>\n",
       "      <td>10000.000000</td>\n",
       "      <td>1.000000</td>\n",
       "      <td>0.000000</td>\n",
       "      <td>0.000000</td>\n",
       "      <td>21.000000</td>\n",
       "      <td>-2.000000</td>\n",
       "      <td>-2.000000</td>\n",
       "      <td>-2.000000</td>\n",
       "      <td>-2.000000</td>\n",
       "      <td>...</td>\n",
       "      <td>-170000.000000</td>\n",
       "      <td>-81334.000000</td>\n",
       "      <td>-339603.000000</td>\n",
       "      <td>0.000000</td>\n",
       "      <td>0.000000e+00</td>\n",
       "      <td>0.00000</td>\n",
       "      <td>0.000000</td>\n",
       "      <td>0.000000</td>\n",
       "      <td>0.000000</td>\n",
       "      <td>0.000000</td>\n",
       "    </tr>\n",
       "    <tr>\n",
       "      <th>25%</th>\n",
       "      <td>7500.750000</td>\n",
       "      <td>50000.000000</td>\n",
       "      <td>1.000000</td>\n",
       "      <td>1.000000</td>\n",
       "      <td>1.000000</td>\n",
       "      <td>28.000000</td>\n",
       "      <td>-1.000000</td>\n",
       "      <td>-1.000000</td>\n",
       "      <td>-1.000000</td>\n",
       "      <td>-1.000000</td>\n",
       "      <td>...</td>\n",
       "      <td>2326.750000</td>\n",
       "      <td>1763.000000</td>\n",
       "      <td>1256.000000</td>\n",
       "      <td>1000.000000</td>\n",
       "      <td>8.330000e+02</td>\n",
       "      <td>390.00000</td>\n",
       "      <td>296.000000</td>\n",
       "      <td>252.500000</td>\n",
       "      <td>117.750000</td>\n",
       "      <td>0.000000</td>\n",
       "    </tr>\n",
       "    <tr>\n",
       "      <th>50%</th>\n",
       "      <td>15000.500000</td>\n",
       "      <td>140000.000000</td>\n",
       "      <td>2.000000</td>\n",
       "      <td>2.000000</td>\n",
       "      <td>2.000000</td>\n",
       "      <td>34.000000</td>\n",
       "      <td>0.000000</td>\n",
       "      <td>0.000000</td>\n",
       "      <td>0.000000</td>\n",
       "      <td>0.000000</td>\n",
       "      <td>...</td>\n",
       "      <td>19052.000000</td>\n",
       "      <td>18104.500000</td>\n",
       "      <td>17071.000000</td>\n",
       "      <td>2100.000000</td>\n",
       "      <td>2.009000e+03</td>\n",
       "      <td>1800.00000</td>\n",
       "      <td>1500.000000</td>\n",
       "      <td>1500.000000</td>\n",
       "      <td>1500.000000</td>\n",
       "      <td>0.000000</td>\n",
       "    </tr>\n",
       "    <tr>\n",
       "      <th>75%</th>\n",
       "      <td>22500.250000</td>\n",
       "      <td>240000.000000</td>\n",
       "      <td>2.000000</td>\n",
       "      <td>2.000000</td>\n",
       "      <td>2.000000</td>\n",
       "      <td>41.000000</td>\n",
       "      <td>0.000000</td>\n",
       "      <td>0.000000</td>\n",
       "      <td>0.000000</td>\n",
       "      <td>0.000000</td>\n",
       "      <td>...</td>\n",
       "      <td>54506.000000</td>\n",
       "      <td>50190.500000</td>\n",
       "      <td>49198.250000</td>\n",
       "      <td>5006.000000</td>\n",
       "      <td>5.000000e+03</td>\n",
       "      <td>4505.00000</td>\n",
       "      <td>4013.250000</td>\n",
       "      <td>4031.500000</td>\n",
       "      <td>4000.000000</td>\n",
       "      <td>0.000000</td>\n",
       "    </tr>\n",
       "    <tr>\n",
       "      <th>max</th>\n",
       "      <td>30000.000000</td>\n",
       "      <td>1000000.000000</td>\n",
       "      <td>2.000000</td>\n",
       "      <td>6.000000</td>\n",
       "      <td>3.000000</td>\n",
       "      <td>79.000000</td>\n",
       "      <td>8.000000</td>\n",
       "      <td>8.000000</td>\n",
       "      <td>8.000000</td>\n",
       "      <td>8.000000</td>\n",
       "      <td>...</td>\n",
       "      <td>891586.000000</td>\n",
       "      <td>927171.000000</td>\n",
       "      <td>961664.000000</td>\n",
       "      <td>873552.000000</td>\n",
       "      <td>1.684259e+06</td>\n",
       "      <td>896040.00000</td>\n",
       "      <td>621000.000000</td>\n",
       "      <td>426529.000000</td>\n",
       "      <td>528666.000000</td>\n",
       "      <td>1.000000</td>\n",
       "    </tr>\n",
       "  </tbody>\n",
       "</table>\n",
       "<p>8 rows × 25 columns</p>\n",
       "</div>"
      ],
      "text/plain": [
       "                 ID       LIMIT_BAL           SEX     EDUCATION      MARRIAGE  \\\n",
       "count  30000.000000    30000.000000  30000.000000  30000.000000  30000.000000   \n",
       "mean   15000.500000   167484.322667      1.603733      1.853133      1.551867   \n",
       "std     8660.398374   129747.661567      0.489129      0.790349      0.521970   \n",
       "min        1.000000    10000.000000      1.000000      0.000000      0.000000   \n",
       "25%     7500.750000    50000.000000      1.000000      1.000000      1.000000   \n",
       "50%    15000.500000   140000.000000      2.000000      2.000000      2.000000   \n",
       "75%    22500.250000   240000.000000      2.000000      2.000000      2.000000   \n",
       "max    30000.000000  1000000.000000      2.000000      6.000000      3.000000   \n",
       "\n",
       "                AGE         PAY_0         PAY_2         PAY_3         PAY_4  \\\n",
       "count  30000.000000  30000.000000  30000.000000  30000.000000  30000.000000   \n",
       "mean      35.485500     -0.016700     -0.133767     -0.166200     -0.220667   \n",
       "std        9.217904      1.123802      1.197186      1.196868      1.169139   \n",
       "min       21.000000     -2.000000     -2.000000     -2.000000     -2.000000   \n",
       "25%       28.000000     -1.000000     -1.000000     -1.000000     -1.000000   \n",
       "50%       34.000000      0.000000      0.000000      0.000000      0.000000   \n",
       "75%       41.000000      0.000000      0.000000      0.000000      0.000000   \n",
       "max       79.000000      8.000000      8.000000      8.000000      8.000000   \n",
       "\n",
       "       ...      BILL_AMT4      BILL_AMT5      BILL_AMT6       PAY_AMT1  \\\n",
       "count  ...   30000.000000   30000.000000   30000.000000   30000.000000   \n",
       "mean   ...   43262.948967   40311.400967   38871.760400    5663.580500   \n",
       "std    ...   64332.856134   60797.155770   59554.107537   16563.280354   \n",
       "min    ... -170000.000000  -81334.000000 -339603.000000       0.000000   \n",
       "25%    ...    2326.750000    1763.000000    1256.000000    1000.000000   \n",
       "50%    ...   19052.000000   18104.500000   17071.000000    2100.000000   \n",
       "75%    ...   54506.000000   50190.500000   49198.250000    5006.000000   \n",
       "max    ...  891586.000000  927171.000000  961664.000000  873552.000000   \n",
       "\n",
       "           PAY_AMT2      PAY_AMT3       PAY_AMT4       PAY_AMT5  \\\n",
       "count  3.000000e+04   30000.00000   30000.000000   30000.000000   \n",
       "mean   5.921163e+03    5225.68150    4826.076867    4799.387633   \n",
       "std    2.304087e+04   17606.96147   15666.159744   15278.305679   \n",
       "min    0.000000e+00       0.00000       0.000000       0.000000   \n",
       "25%    8.330000e+02     390.00000     296.000000     252.500000   \n",
       "50%    2.009000e+03    1800.00000    1500.000000    1500.000000   \n",
       "75%    5.000000e+03    4505.00000    4013.250000    4031.500000   \n",
       "max    1.684259e+06  896040.00000  621000.000000  426529.000000   \n",
       "\n",
       "            PAY_AMT6          DPNM  \n",
       "count   30000.000000  30000.000000  \n",
       "mean     5215.502567      0.221200  \n",
       "std     17777.465775      0.415062  \n",
       "min         0.000000      0.000000  \n",
       "25%       117.750000      0.000000  \n",
       "50%      1500.000000      0.000000  \n",
       "75%      4000.000000      0.000000  \n",
       "max    528666.000000      1.000000  \n",
       "\n",
       "[8 rows x 25 columns]"
      ]
     },
     "execution_count": 16,
     "metadata": {},
     "output_type": "execute_result"
    }
   ],
   "source": [
    "df.describe(include='all')"
   ]
  },
  {
   "cell_type": "markdown",
   "metadata": {},
   "source": [
    "Additional insights are provided by the number of distinct values in each column, or the average number of rows per distinct values of a column\n",
    "\n",
    "This latter ratio can be obtained dividing the number of rows by the result of the `nunique()` method. The result is a series that can be sorted with the `().sort_values()` method.\n",
    "\n",
    "Meaning of this ratio:\n",
    "- Usually, it is exactly `1` when a column is an __identifier__. Usually identifiers are not useful for machine learning and must be dropped\n",
    "- Usually it is a non integer small number (e.g. a few units) for continuous attributes.\n",
    "- Usually it is a larger number (of the order of magnitude of the nunber of rows) for discrete attributes\n"
   ]
  },
  {
   "cell_type": "code",
   "execution_count": 17,
   "metadata": {},
   "outputs": [
    {
     "data": {
      "text/plain": [
       "ID               1.000000\n",
       "BILL_AMT1        1.320248\n",
       "BILL_AMT2        1.342522\n",
       "BILL_AMT3        1.362027\n",
       "BILL_AMT4        1.392241\n",
       "BILL_AMT5        1.427891\n",
       "BILL_AMT6        1.456028\n",
       "PAY_AMT1         3.776910\n",
       "PAY_AMT2         3.797949\n",
       "PAY_AMT3         3.990423\n",
       "PAY_AMT6         4.323390\n",
       "PAY_AMT4         4.324636\n",
       "PAY_AMT5         4.349717\n",
       "LIMIT_BAL      370.370370\n",
       "AGE            535.714286\n",
       "PAY_4         2727.272727\n",
       "PAY_3         2727.272727\n",
       "PAY_2         2727.272727\n",
       "PAY_0         2727.272727\n",
       "PAY_6         3000.000000\n",
       "PAY_5         3000.000000\n",
       "EDUCATION     4285.714286\n",
       "MARRIAGE      7500.000000\n",
       "SEX          15000.000000\n",
       "DPNM         15000.000000\n",
       "dtype: float64"
      ]
     },
     "execution_count": 17,
     "metadata": {},
     "output_type": "execute_result"
    }
   ],
   "source": [
    "(df.shape[0]/df.nunique()).sort_values()"
   ]
  },
  {
   "cell_type": "markdown",
   "metadata": {},
   "source": [
    "Show a pie chart of the __target__ labels frequencies (hint: use the `value_counts` method)"
   ]
  },
  {
   "cell_type": "code",
   "execution_count": 19,
   "metadata": {},
   "outputs": [
    {
     "data": {
      "image/png": "[encoded data removed]",
      "text/plain": [
       "<Figure size 800x800 with 1 Axes>"
      ]
     },
     "metadata": {},
     "output_type": "display_data"
    }
   ],
   "source": [
    "df[target].value_counts(sort=False).plot(\n",
    "                        kind='pie'\n",
    "                        , autopct='%1.1f%%'\n",
    "                        , title=\"Distribution of target {}\".format(target)\n",
    "                        , ylabel=''\n",
    "                        , figsize=(8,8)\n",
    "                        );"
   ]
  },
  {
   "cell_type": "markdown",
   "metadata": {},
   "source": [
    "#### Split the data into the __predicting values__ `X` and the __target__ `y`\n",
    "Drop also the columns which are not relevant for training a classifier, if any\n",
    "\n",
    "The method \"drop\" of dataframes allows to drop either rows or columns\n",
    "- the \"axis\" parameter chooses between dropping rows (axis=0) or columns (axis=1)"
   ]
  },
  {
   "cell_type": "code",
   "execution_count": 20,
   "metadata": {},
   "outputs": [],
   "source": [
    "X=df.drop([target,'ID'],axis=1)\n",
    "Y=df[target]"
   ]
  },
  {
   "cell_type": "markdown",
   "metadata": {},
   "source": [
    "### Prepare the baseline: holdout method"
   ]
  },
  {
   "cell_type": "code",
   "execution_count": 23,
   "metadata": {},
   "outputs": [
    {
     "name": "stdout",
     "output_type": "stream",
     "text": [
      "Dataset \"../data/default-of-credit-card-clients.xlsx\"\n",
      "\n",
      "There are 20100 samples in the training dataset\n",
      "There are 9900 samples in the testing dataset\n",
      "Each sample has 23 features\n"
     ]
    }
   ],
   "source": [
    "from sklearn.model_selection import train_test_split\n",
    "X_train, X_test, y_train, y_test = train_test_split(X, Y\n",
    "                                                    , train_size = train_size\n",
    "                                                    , random_state = random_state) # default Train 0.75- Test 0.25\n",
    "print('Dataset \"{}\"\\n\\nThere are {} samples in the training dataset'.format(data_url, X_train.shape[0]))\n",
    "print(\"There are {} samples in the testing dataset\".format(X_test.shape[0]))\n",
    "print(\"Each sample has {} features\".format(X_train.shape[1]))"
   ]
  },
  {
   "cell_type": "markdown",
   "metadata": {},
   "source": [
    "- Initialize an estimator with the required model generator `tree.DecisionTreeClassifier(random_state = random_state)`\n",
    "- Fit the estimator on the train data and target"
   ]
  },
  {
   "cell_type": "code",
   "execution_count": 24,
   "metadata": {},
   "outputs": [],
   "source": [
    "estimator = tree.DecisionTreeClassifier(random_state = random_state)\n",
    "estimator.fit(X_train, y_train);"
   ]
  },
  {
   "cell_type": "code",
   "execution_count": 25,
   "metadata": {},
   "outputs": [
    {
     "name": "stdout",
     "output_type": "stream",
     "text": [
      "The accuracy on training set is 100.0%\n"
     ]
    }
   ],
   "source": [
    "y_predicted_train = estimator.predict(X_train)\n",
    "accuracy_train = accuracy_score(y_predicted_train, y_train)*100\n",
    "print(\"The accuracy on training set is {0:.1f}%\".format(accuracy_train))"
   ]
  },
  {
   "cell_type": "markdown",
   "metadata": {},
   "source": [
    "Let's see how it works on test data, and, comparing with the result on training data, see if you can suspect *overfitting*\n",
    "- use the fitted estimator to predict using the test features\n",
    "- compute the accuracy and store it on a variable for the final summary\n",
    "- store the maximum depth of the tree, for later use \n",
    "    - `fitted_max_depth = estimator.tree_.max_depth`\n",
    "- store the range of the parameter which will be used for tuning\n",
    "    - `parameter_values = range(1,fitted_max_depth+1)`\n",
    "- print the accuracy on the test set and the maximum depth of the tree"
   ]
  },
  {
   "cell_type": "code",
   "execution_count": 26,
   "metadata": {},
   "outputs": [
    {
     "name": "stdout",
     "output_type": "stream",
     "text": [
      "The accuracy on test set is 72.3%\n",
      "The maximum depth of the tree fitted on X_train is 56\n"
     ]
    }
   ],
   "source": [
    "y_predicted_test = estimator.predict(X_test)\n",
    "accuracy_ho = accuracy_score(y_test, y_predicted_test) * 100\n",
    "fitted_max_depth = estimator.tree_.max_depth\n",
    "initial_impurity = estimator.tree_.impurity[0] # the impurity variable of tree_ contains the impurities of all the nodes\n",
    "print(\"The accuracy on test set is {0:.1f}%\".format(accuracy_ho))\n",
    "print(\"The maximum depth of the tree fitted on X_train is {}\".format(fitted_max_depth))\n",
    "# print(\"The impurity of the X_train dataset is {0:.3f}\".format(initial_impurity))\n",
    "parameter_values = range(1,fitted_max_depth+1)\n",
    "# parameter_values = np.linspace(0, initial_impurity, 31)"
   ]
  },
  {
   "cell_type": "markdown",
   "metadata": {},
   "source": [
    "There is clearly overfitting, since the training accuracy is 100% and the testing accuracy is 72.3%\n",
    "\n",
    "We need to optimize the __hyperparameters__ of the decision tree.<br>\n",
    "We will also execute several optimization loops in order to maximize different performance measures\n",
    "\n",
    "Prepare the grid of hyperparameter values to search for the best performance "
   ]
  },
  {
   "cell_type": "code",
   "execution_count": 13,
   "metadata": {
    "slideshow": {
     "slide_type": "fragment"
    }
   },
   "outputs": [],
   "source": [
    "# hint\n",
    "# Set the parameters to search in the different cross-validation rounds\n",
    "tuned_param_dt = [{'max_depth': [*range(1,7)] \n",
    "                        # [*range(1,fitted_max_depth+1)]\n",
    "                        # in principle we should use this, but for \"default-of-credit-card-clients.xlsx\"\n",
    "                        # 7 is enough and with 56 the running time is a bit long\n",
    "                , 'criterion' : ['entropy', 'gini']\n",
    "                , 'class_weight' : [None, 'balanced']}]\n",
    "\n",
    "scores = ['accuracy'\n",
    "        , 'precision_macro'\n",
    "        , 'recall_macro'\n",
    "        , 'f1_macro']"
   ]
  },
  {
   "cell_type": "markdown",
   "metadata": {},
   "source": [
    "## Value of the decisions assisted by the classifier\n",
    "\n",
    "Let's assume that we have an evaluation of the average gain due to a correct prediction of default and non-default, and of the average cost due to a wrong prediction, either of undetected default or default prediction for a client that is not going to default.\n",
    "\n",
    "We also assume a given number of customers per month and evaluate quantitatively the advantage given by the data driven prediction of default"
   ]
  },
  {
   "cell_type": "code",
   "execution_count": 14,
   "metadata": {},
   "outputs": [],
   "source": [
    "# hint\n",
    "# I am not an expert of the field, therefore those values are just examples\n",
    "value_DPNM_00 =   0 # correct prediction on non-default\n",
    "value_DPNM_11 =  10 # correct prediction on default\n",
    "value_DPNM_10 = -10 # wrong prediction on default\n",
    "value_DPNM_01 =  -2 # wrong prediction on non-default\n",
    "\n",
    "customer_x_month = 10000"
   ]
  },
  {
   "cell_type": "code",
   "execution_count": 30,
   "metadata": {},
   "outputs": [
    {
     "ename": "NameError",
     "evalue": "name 'value_DPNM_00' is not defined",
     "output_type": "error",
     "traceback": [
      "\u001b[1;31m---------------------------------------------------------------------------\u001b[0m",
      "\u001b[1;31mNameError\u001b[0m                                 Traceback (most recent call last)",
      "Cell \u001b[1;32mIn[30], line 2\u001b[0m\n\u001b[0;32m      1\u001b[0m \u001b[38;5;66;03m# Custom scoring function that calculates total cost\u001b[39;00m\n\u001b[1;32m----> 2\u001b[0m cost_matrix \u001b[38;5;241m=\u001b[39m np\u001b[38;5;241m.\u001b[39marray([[value_DPNM_00,value_DPNM_01],[value_DPNM_10,value_DPNM_11]])\n\u001b[0;32m      4\u001b[0m \u001b[38;5;28;01mdef\u001b[39;00m \u001b[38;5;21mcost_based_scorer\u001b[39m(y_true, y_pred):\n\u001b[0;32m      5\u001b[0m     \u001b[38;5;66;03m# Generate confusion matrix\u001b[39;00m\n\u001b[0;32m      6\u001b[0m     \u001b[38;5;66;03m# cost_matrix = np.array([[value_DPNM_00,value_DPNM_01],[value_DPNM_10,value_DPNM_11]])\u001b[39;00m\n\u001b[0;32m      7\u001b[0m     tn, fp, fn, tp \u001b[38;5;241m=\u001b[39m confusion_matrix(y_true, y_pred)\u001b[38;5;241m.\u001b[39mravel()\n",
      "\u001b[1;31mNameError\u001b[0m: name 'value_DPNM_00' is not defined"
     ]
    }
   ],
   "source": [
    "# Custom scoring function that calculates total cost\n",
    "cost_matrix = np.array([[value_DPNM_00,value_DPNM_01],[value_DPNM_10,value_DPNM_11]])\n",
    "\n",
    "def cost_based_scorer(y_true, y_pred):\n",
    "    # Generate confusion matrix\n",
    "    # cost_matrix = np.array([[value_DPNM_00,value_DPNM_01],[value_DPNM_10,value_DPNM_11]])\n",
    "    tn, fp, fn, tp = confusion_matrix(y_true, y_pred).ravel()\n",
    "    \n",
    "    # Calculate total cost\n",
    "    total_cost = (cost_matrix[0,0] * tn +\n",
    "                  cost_matrix[0,1] * fp +\n",
    "                  cost_matrix[1,0] * fn +\n",
    "                  cost_matrix[1,1] * tp)\n",
    "    \n",
    "    return total_cost  # Negative because GridSearchCV maximizes the score\n",
    "\n",
    "# Create the custom scorer\n",
    "from sklearn.metrics import make_scorer\n",
    "custom_scorer = make_scorer(cost_based_scorer, greater_is_better=True)\n",
    "scores_dict = {score : score for score in scores}\n",
    "scores_dict['custom_scorer'] = custom_scorer\n",
    "scores_dict"
   ]
  },
  {
   "cell_type": "markdown",
   "metadata": {},
   "source": [
    "Genarate and show the `cost_matrix`"
   ]
  },
  {
   "cell_type": "code",
   "execution_count": 32,
   "metadata": {},
   "outputs": [
    {
     "ename": "NameError",
     "evalue": "name 'value_DPNM_00' is not defined",
     "output_type": "error",
     "traceback": [
      "\u001b[1;31m---------------------------------------------------------------------------\u001b[0m",
      "\u001b[1;31mNameError\u001b[0m                                 Traceback (most recent call last)",
      "Cell \u001b[1;32mIn[32], line 2\u001b[0m\n\u001b[0;32m      1\u001b[0m \u001b[38;5;66;03m# Custom scoring function that calculates total cost\u001b[39;00m\n\u001b[1;32m----> 2\u001b[0m cost_matrix \u001b[38;5;241m=\u001b[39m np\u001b[38;5;241m.\u001b[39marray([[value_DPNM_00,value_DPNM_01],[value_DPNM_10,value_DPNM_11]])\n\u001b[0;32m      4\u001b[0m \u001b[38;5;28;01mdef\u001b[39;00m \u001b[38;5;21mcost_based_scorer\u001b[39m(y_true, y_pred):\n\u001b[0;32m      5\u001b[0m     \u001b[38;5;66;03m# Generate confusion matrix\u001b[39;00m\n\u001b[0;32m      6\u001b[0m     \u001b[38;5;66;03m# cost_matrix = np.array([[value_DPNM_00,value_DPNM_01],[value_DPNM_10,value_DPNM_11]])\u001b[39;00m\n\u001b[0;32m      7\u001b[0m     tn, fp, fn, tp \u001b[38;5;241m=\u001b[39m confusion_matrix(y_true, y_pred)\u001b[38;5;241m.\u001b[39mravel()\n",
      "\u001b[1;31mNameError\u001b[0m: name 'value_DPNM_00' is not defined"
     ]
    }
   ],
   "source": [
    "# Custom scoring function that calculates total cost\n",
    "cost_matrix = np.array([[value_DPNM_00,value_DPNM_01],[value_DPNM_10,value_DPNM_11]])\n",
    "\n",
    "def cost_based_scorer(y_true, y_pred):\n",
    "    # Generate confusion matrix\n",
    "    # cost_matrix = np.array([[value_DPNM_00,value_DPNM_01],[value_DPNM_10,value_DPNM_11]])\n",
    "    tn, fp, fn, tp = confusion_matrix(y_true, y_pred).ravel()\n",
    "    \n",
    "    # Calculate total cost\n",
    "    total_cost = (cost_matrix[0,0] * tn +\n",
    "                  cost_matrix[0,1] * fp +\n",
    "                  cost_matrix[1,0] * fn +\n",
    "                  cost_matrix[1,1] * tp)\n",
    "    \n",
    "    return total_cost  # Negative because GridSearchCV maximizes the score\n",
    "\n",
    "# Create the custom scorer\n",
    "from sklearn.metrics import make_scorer\n",
    "custom_scorer = make_scorer(cost_based_scorer, greater_is_better=True)\n",
    "scores_dict = {score : score for score in scores}\n",
    "scores_dict['custom_scorer'] = custom_scorer\n",
    "scores_dict"
   ]
  },
  {
   "cell_type": "markdown",
   "metadata": {
    "slideshow": {
     "slide_type": "slide"
    }
   },
   "source": [
    "### Loop on scores\n",
    "- prepare the split method and initialize its random state\n",
    "- iterate varying the score function\n",
    "    - fit the estimator using the training data\n",
    "        - the resulting model will be the best one according to the current score function\n",
    "    - print the best estimator\n",
    "    - print the best score\n",
    "    - predict the target for the test set using the `.predict` method\n",
    "    - print the `classification_report` passing the test ground truth and the test prediction\n",
    "    - generate and store the `confusion_matrix` passing the test ground truth and the test prediction\n",
    "        - the parameter `normalize='true'` forces the production of percentages, instead of counts, normalized with respect to the ground truth\n",
    "        - alternatives are `normalize='pred'` for normalization to predictions `normalize='all'` for normalization to all the samples\n",
    "    - print the __monthly value__ given by the best estimator for the current score\n",
    "    - display the confusion matrix with `ConfusionMatrixDisplay`\n",
    "        "
   ]
  },
  {
   "cell_type": "code",
   "execution_count": 16,
   "metadata": {
    "scrolled": true,
    "slideshow": {
     "slide_type": "fragment"
    }
   },
   "outputs": [],
   "source": [
    "# hint\n",
    "skf = StratifiedKFold(n_splits=n_splits, random_state=random_state, shuffle=True)"
   ]
  },
  {
   "cell_type": "markdown",
   "metadata": {},
   "source": [
    "Hint: start developing the process for a single scoring, e.g. `accuracy`, then you can enclose it in the loop for the various scores"
   ]
  },
  {
   "cell_type": "code",
   "execution_count": 33,
   "metadata": {},
   "outputs": [
    {
     "ename": "NameError",
     "evalue": "name 'scores_dict' is not defined",
     "output_type": "error",
     "traceback": [
      "\u001b[1;31m---------------------------------------------------------------------------\u001b[0m",
      "\u001b[1;31mNameError\u001b[0m                                 Traceback (most recent call last)",
      "Cell \u001b[1;32mIn[33], line 1\u001b[0m\n\u001b[1;32m----> 1\u001b[0m \u001b[38;5;28;01mfor\u001b[39;00m scorer_name, score \u001b[38;5;129;01min\u001b[39;00m scores_dict\u001b[38;5;241m.\u001b[39mitems():\n\u001b[0;32m      2\u001b[0m     \u001b[38;5;28mprint\u001b[39m(\u001b[38;5;124m'\u001b[39m\u001b[38;5;124m=\u001b[39m\u001b[38;5;124m'\u001b[39m\u001b[38;5;241m*\u001b[39m\u001b[38;5;241m40\u001b[39m)\n\u001b[0;32m      3\u001b[0m     \u001b[38;5;28mprint\u001b[39m(\u001b[38;5;124m\"\u001b[39m\u001b[38;5;124m# Tuning hyper-parameters for \u001b[39m\u001b[38;5;132;01m%s\u001b[39;00m\u001b[38;5;124m\"\u001b[39m \u001b[38;5;241m%\u001b[39m scorer_name)\n",
      "\u001b[1;31mNameError\u001b[0m: name 'scores_dict' is not defined"
     ]
    }
   ],
   "source": [
    "for scorer_name, score in scores_dict.items():\n",
    "    print('='*40)\n",
    "    print(\"# Tuning hyper-parameters for %s\" % scorer_name)\n",
    "    clf = GridSearchCV(estimator = estimator\n",
    "                    , param_grid=tuned_param_dt\n",
    "                    , scoring = score\n",
    "                    , return_train_score = False\n",
    "                    # , refit = True #Refit the estimator using the best found parameters on the whole dataset\n",
    "                    , cv = skf # use the splitter defined above\n",
    "                    )\n",
    "    clf.fit(X_train, y_train)\n",
    "    best_params = clf.best_params_\n",
    "    print(best_params)\n",
    "    print(\"Best score {:6.3f}%\".format(clf.best_score_*100))\n",
    "    y_p = clf.best_estimator_.predict(X_test) # since refit is by default True we can directly predict from the fitted grid search\n",
    "    print(classification_report(y_test,y_p, zero_division=0))\n",
    "    cm = confusion_matrix(y_test, y_p, labels=clf.best_estimator_.classes_, normalize='true')\n",
    "    print(\"Monthly value {} for score '{}'\".format(np.sum(cost_matrix * cm * 10000),scorer_name))\n",
    "    disp = ConfusionMatrixDisplay(confusion_matrix=cm\n",
    "                                , display_labels=clf.classes_)\n",
    "    disp.plot()    # for m in results_short.keys():\n",
    "    disp.ax_.set_title(\"Optimized for '{}'\\n Criterion '{}' - Max Depth '{}' - Class weight '{}'\".\\\n",
    "        format(scorer_name,best_params['criterion'],best_params['max_depth'],best_params['class_weight']))\n",
    "    #     print(\"{}\\t - score: {:4.2}%\".format(results_short[m]))"
   ]
  },
  {
   "cell_type": "code",
   "execution_count": null,
   "metadata": {},
   "outputs": [],
   "source": []
  }
 ],
 "metadata": {
  "celltoolbar": "Slideshow",
  "kernelspec": {
   "display_name": "base",
   "language": "python",
   "name": "python3"
  },
  "language_info": {
   "codemirror_mode": {
    "name": "ipython",
    "version": 3
   },
   "file_extension": ".py",
   "mimetype": "text/x-python",
   "name": "python",
   "nbconvert_exporter": "python",
   "pygments_lexer": "ipython3",
   "version": "3.12.7"
  }
 },
 "nbformat": 4,
 "nbformat_minor": 2
}
